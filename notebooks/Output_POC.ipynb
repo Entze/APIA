{
 "cells": [
  {
   "cell_type": "code",
   "execution_count": 1,
   "id": "6ba2a669-e93b-4987-9067-1f0a5e3eceb4",
   "metadata": {},
   "outputs": [],
   "source": [
    "import os.path\n",
    "import re\n",
    "import sys\n",
    "\n",
    "import ipysheet\n",
    "from clingo.script import register_script\n",
    "\n",
    "sys.path.append('..')\n",
    "\n",
    "from util.run import explain\n",
    "\n",
    "from Implementation.apia_control_loop import *"
   ]
  },
  {
   "cell_type": "code",
   "execution_count": 2,
   "id": "8b9f95b6-e702-45f8-bcf0-0959d357aa08",
   "metadata": {},
   "outputs": [],
   "source": [
    "def generate_sheet(rows=5, columns=5):\n",
    "    sheet = ipysheet.sheet(rows=rows, columns=columns, column_width=[20] + [5 for _ in range(1, columns)])\n",
    "    for row in range(rows):\n",
    "        for column in range(columns):\n",
    "            ipysheet.cell(row, column, \"\")\n",
    "    return sheet\n"
   ]
  },
  {
   "cell_type": "code",
   "execution_count": 3,
   "id": "dc0ba313-28cd-47db-be82-153042acd387",
   "metadata": {},
   "outputs": [
    {
     "data": {
      "application/vnd.jupyter.widget-view+json": {
       "model_id": "bd3f44e9cfa544e3abf7415238c89d4d",
       "version_major": 2,
       "version_minor": 0
      },
      "text/plain": [
       "Sheet(cells=(Cell(column_end=0, column_start=0, row_end=0, row_start=0, type='text', value=''), Cell(column_en…"
      ]
     },
     "metadata": {},
     "output_type": "display_data"
    }
   ],
   "source": [
    "sheet = generate_sheet(rows=13, columns=9)\n",
    "\n",
    "ipysheet.cell(0, 0, \"happened(wait, T)\")\n",
    "ipysheet.cell(1, 0, 'happened(select(policy_compliant(greeted_by(\"Bob\", \"Alice\"))), T)')\n",
    "ipysheet.cell(2, 0, 'happened(start(1), T)')\n",
    "ipysheet.cell(3, 0, 'happened(stop(1), T)')\n",
    "ipysheet.cell(4, 0, 'happened(move_through(\"Alice\", \"d12\"), T)')\n",
    "ipysheet.cell(5, 0, 'happened(move_through(\"Alice\", \"d23\"), T)')\n",
    "ipysheet.cell(6, 0, 'happened(move_through(\"Alice\", \"d34\"), T)')\n",
    "ipysheet.cell(7, 0, 'happened(greet(\"Alice\", \"Bob\"), T)')\n",
    "ipysheet.cell(8, 0, 'observed(in_room(\"Alice\", \"r2\"), T)')\n",
    "ipysheet.cell(9, 0, 'observed(in_room(\"Alice\", \"r3\"), T)')\n",
    "ipysheet.cell(10, 0, 'observed(in_room(\"Alice\", \"r4\"), T)')\n",
    "ipysheet.cell(11, 0, 'observed(greeted_by(\"Bob\", \"Alice\"), T)')\n",
    "ipysheet.cell(12, 0, '-observed(greeted_by(\"Bob\", \"Alice\"), T)')\n",
    "\n",
    "ipysheet.cell(0, 1, \"X\")\n",
    "ipysheet.cell(0, 8, \"X\")\n",
    "ipysheet.cell(1, 1, \"X\")\n",
    "ipysheet.cell(2, 2, \"X\")\n",
    "ipysheet.cell(3, 7, \"X\")\n",
    "ipysheet.cell(4, 3, \"X\")\n",
    "ipysheet.cell(5, 4, \"X\")\n",
    "ipysheet.cell(6, 5, \"X\")\n",
    "ipysheet.cell(7, 6, \"X\")\n",
    "\n",
    "ipysheet.cell(8, 4, \"X\")\n",
    "ipysheet.cell(9, 5, \"X\")\n",
    "ipysheet.cell(10, 6, \"X\")\n",
    "\n",
    "ipysheet.cell(11, 7, \"X\")\n",
    "ipysheet.cell(12, 2, \"X\")\n",
    "ipysheet.cell(12, 3, \"X\")\n",
    "ipysheet.cell(12, 4, \"X\")\n",
    "ipysheet.cell(12, 5, \"X\")\n",
    "ipysheet.cell(12, 6, \"X\")\n",
    "\n",
    "sheet"
   ]
  },
  {
   "cell_type": "code",
   "execution_count": 4,
   "id": "eb7f1d16-702f-4431-bf55-64417f38e5b3",
   "metadata": {},
   "outputs": [
    {
     "data": {
      "text/html": [
       "<div>\n",
       "<style scoped>\n",
       "    .dataframe tbody tr th:only-of-type {\n",
       "        vertical-align: middle;\n",
       "    }\n",
       "\n",
       "    .dataframe tbody tr th {\n",
       "        vertical-align: top;\n",
       "    }\n",
       "\n",
       "    .dataframe thead th {\n",
       "        text-align: right;\n",
       "    }\n",
       "</style>\n",
       "<table border=\"1\" class=\"dataframe\">\n",
       "  <thead>\n",
       "    <tr style=\"text-align: right;\">\n",
       "      <th></th>\n",
       "      <th>A</th>\n",
       "      <th>B</th>\n",
       "      <th>C</th>\n",
       "      <th>D</th>\n",
       "      <th>E</th>\n",
       "      <th>F</th>\n",
       "      <th>G</th>\n",
       "      <th>H</th>\n",
       "      <th>I</th>\n",
       "    </tr>\n",
       "  </thead>\n",
       "  <tbody>\n",
       "    <tr>\n",
       "      <th>0</th>\n",
       "      <td>happened(wait, T)</td>\n",
       "      <td>X</td>\n",
       "      <td></td>\n",
       "      <td></td>\n",
       "      <td></td>\n",
       "      <td></td>\n",
       "      <td></td>\n",
       "      <td></td>\n",
       "      <td>X</td>\n",
       "    </tr>\n",
       "    <tr>\n",
       "      <th>1</th>\n",
       "      <td>happened(select(policy_compliant(greeted_by(\"B...</td>\n",
       "      <td>X</td>\n",
       "      <td></td>\n",
       "      <td></td>\n",
       "      <td></td>\n",
       "      <td></td>\n",
       "      <td></td>\n",
       "      <td></td>\n",
       "      <td></td>\n",
       "    </tr>\n",
       "    <tr>\n",
       "      <th>2</th>\n",
       "      <td>happened(start(1), T)</td>\n",
       "      <td></td>\n",
       "      <td>X</td>\n",
       "      <td></td>\n",
       "      <td></td>\n",
       "      <td></td>\n",
       "      <td></td>\n",
       "      <td></td>\n",
       "      <td></td>\n",
       "    </tr>\n",
       "    <tr>\n",
       "      <th>3</th>\n",
       "      <td>happened(stop(1), T)</td>\n",
       "      <td></td>\n",
       "      <td></td>\n",
       "      <td></td>\n",
       "      <td></td>\n",
       "      <td></td>\n",
       "      <td></td>\n",
       "      <td>X</td>\n",
       "      <td></td>\n",
       "    </tr>\n",
       "    <tr>\n",
       "      <th>4</th>\n",
       "      <td>happened(move_through(\"Alice\", \"d12\"), T)</td>\n",
       "      <td></td>\n",
       "      <td></td>\n",
       "      <td>X</td>\n",
       "      <td></td>\n",
       "      <td></td>\n",
       "      <td></td>\n",
       "      <td></td>\n",
       "      <td></td>\n",
       "    </tr>\n",
       "    <tr>\n",
       "      <th>5</th>\n",
       "      <td>happened(move_through(\"Alice\", \"d23\"), T)</td>\n",
       "      <td></td>\n",
       "      <td></td>\n",
       "      <td></td>\n",
       "      <td>X</td>\n",
       "      <td></td>\n",
       "      <td></td>\n",
       "      <td></td>\n",
       "      <td></td>\n",
       "    </tr>\n",
       "    <tr>\n",
       "      <th>6</th>\n",
       "      <td>happened(move_through(\"Alice\", \"d34\"), T)</td>\n",
       "      <td></td>\n",
       "      <td></td>\n",
       "      <td></td>\n",
       "      <td></td>\n",
       "      <td>X</td>\n",
       "      <td></td>\n",
       "      <td></td>\n",
       "      <td></td>\n",
       "    </tr>\n",
       "    <tr>\n",
       "      <th>7</th>\n",
       "      <td>happened(greet(\"Alice\", \"Bob\"), T)</td>\n",
       "      <td></td>\n",
       "      <td></td>\n",
       "      <td></td>\n",
       "      <td></td>\n",
       "      <td></td>\n",
       "      <td>X</td>\n",
       "      <td></td>\n",
       "      <td></td>\n",
       "    </tr>\n",
       "    <tr>\n",
       "      <th>8</th>\n",
       "      <td>observed(in_room(\"Alice\", \"r2\"), T)</td>\n",
       "      <td></td>\n",
       "      <td></td>\n",
       "      <td></td>\n",
       "      <td>X</td>\n",
       "      <td></td>\n",
       "      <td></td>\n",
       "      <td></td>\n",
       "      <td></td>\n",
       "    </tr>\n",
       "    <tr>\n",
       "      <th>9</th>\n",
       "      <td>observed(in_room(\"Alice\", \"r3\"), T)</td>\n",
       "      <td></td>\n",
       "      <td></td>\n",
       "      <td></td>\n",
       "      <td></td>\n",
       "      <td>X</td>\n",
       "      <td></td>\n",
       "      <td></td>\n",
       "      <td></td>\n",
       "    </tr>\n",
       "    <tr>\n",
       "      <th>10</th>\n",
       "      <td>observed(in_room(\"Alice\", \"r4\"), T)</td>\n",
       "      <td></td>\n",
       "      <td></td>\n",
       "      <td></td>\n",
       "      <td></td>\n",
       "      <td></td>\n",
       "      <td>X</td>\n",
       "      <td></td>\n",
       "      <td></td>\n",
       "    </tr>\n",
       "    <tr>\n",
       "      <th>11</th>\n",
       "      <td>observed(greeted_by(\"Bob\", \"Alice\"), T)</td>\n",
       "      <td></td>\n",
       "      <td></td>\n",
       "      <td></td>\n",
       "      <td></td>\n",
       "      <td></td>\n",
       "      <td></td>\n",
       "      <td>X</td>\n",
       "      <td></td>\n",
       "    </tr>\n",
       "    <tr>\n",
       "      <th>12</th>\n",
       "      <td>-observed(greeted_by(\"Bob\", \"Alice\"), T)</td>\n",
       "      <td></td>\n",
       "      <td>X</td>\n",
       "      <td>X</td>\n",
       "      <td>X</td>\n",
       "      <td>X</td>\n",
       "      <td>X</td>\n",
       "      <td></td>\n",
       "      <td></td>\n",
       "    </tr>\n",
       "  </tbody>\n",
       "</table>\n",
       "</div>"
      ],
      "text/plain": [
       "                                                    A  B  C  D  E  F  G  H  I\n",
       "0                                   happened(wait, T)  X                    X\n",
       "1   happened(select(policy_compliant(greeted_by(\"B...  X                     \n",
       "2                               happened(start(1), T)     X                  \n",
       "3                                happened(stop(1), T)                    X   \n",
       "4           happened(move_through(\"Alice\", \"d12\"), T)        X               \n",
       "5           happened(move_through(\"Alice\", \"d23\"), T)           X            \n",
       "6           happened(move_through(\"Alice\", \"d34\"), T)              X         \n",
       "7                  happened(greet(\"Alice\", \"Bob\"), T)                 X      \n",
       "8                 observed(in_room(\"Alice\", \"r2\"), T)           X            \n",
       "9                 observed(in_room(\"Alice\", \"r3\"), T)              X         \n",
       "10                observed(in_room(\"Alice\", \"r4\"), T)                 X      \n",
       "11            observed(greeted_by(\"Bob\", \"Alice\"), T)                    X   \n",
       "12           -observed(greeted_by(\"Bob\", \"Alice\"), T)     X  X  X  X  X      "
      ]
     },
     "execution_count": 4,
     "metadata": {},
     "output_type": "execute_result"
    }
   ],
   "source": [
    "df = ipysheet.pandas_loader.to_dataframe(sheet)\n",
    "df"
   ]
  },
  {
   "cell_type": "code",
   "execution_count": 5,
   "id": "3036040b-8e2e-400b-b1a3-d664250456e8",
   "metadata": {},
   "outputs": [
    {
     "data": {
      "text/plain": [
       "{'happened(wait, T)': {0, 7},\n",
       " 'happened(select(policy_compliant(greeted_by(\"Bob\", \"Alice\"))), T)': {0},\n",
       " 'happened(start(1), T)': {1},\n",
       " 'happened(stop(1), T)': {6},\n",
       " 'happened(move_through(\"Alice\", \"d12\"), T)': {2},\n",
       " 'happened(move_through(\"Alice\", \"d23\"), T)': {3},\n",
       " 'happened(move_through(\"Alice\", \"d34\"), T)': {4},\n",
       " 'happened(greet(\"Alice\", \"Bob\"), T)': {5},\n",
       " 'observed(in_room(\"Alice\", \"r2\"), T)': {3},\n",
       " 'observed(in_room(\"Alice\", \"r3\"), T)': {4},\n",
       " 'observed(in_room(\"Alice\", \"r4\"), T)': {5},\n",
       " 'observed(greeted_by(\"Bob\", \"Alice\"), T)': {6},\n",
       " '-observed(greeted_by(\"Bob\", \"Alice\"), T)': {1, 2, 3, 4, 5}}"
      ]
     },
     "execution_count": 5,
     "metadata": {},
     "output_type": "execute_result"
    }
   ],
   "source": [
    "fact_dict = {}\n",
    "\n",
    "for rindex, row in df.iterrows():\n",
    "    fact = None\n",
    "    for cindex, cell in enumerate(row):\n",
    "        if cindex == 0:\n",
    "            fact = cell\n",
    "            fact_dict[cell] = set()\n",
    "        elif cell == \"X\":\n",
    "            fact_dict[fact].add(cindex - 1)\n",
    "\n",
    "fact_dict"
   ]
  },
  {
   "cell_type": "code",
   "execution_count": 6,
   "id": "2196d98c-7b33-4975-942a-c3e330bcff11",
   "metadata": {},
   "outputs": [],
   "source": [
    "action_string = \"^(-?)(happened|observed)\\(\\s*(.*)\\s*,\\s*(T)\\s*\\)$\"\n",
    "action_pattern = re.compile(action_string)\n",
    "\n",
    "\n",
    "def fill_time(fact, time):\n",
    "    if action_pattern.match(fact):\n",
    "        return action_pattern.sub(r\"\\1\\2(\\3, {})\".format(time), fact)\n",
    "    return fact\n",
    "\n"
   ]
  },
  {
   "cell_type": "code",
   "execution_count": 7,
   "id": "60679174-8875-416a-b63f-d389ecf88fd6",
   "metadata": {},
   "outputs": [
    {
     "data": {
      "text/plain": [
       "{'#program observations_1': {'-observed(greeted_by(\"Bob\", \"Alice\"), 1)',\n",
       "  'happened(select(policy_compliant(greeted_by(\"Bob\", \"Alice\"))), 0)',\n",
       "  'happened(wait, 0)'},\n",
       " '#program observations_8': {'happened(wait, 7)'},\n",
       " '#program observations_2': {'-observed(greeted_by(\"Bob\", \"Alice\"), 2)',\n",
       "  'happened(start(1), 1)'},\n",
       " '#program observations_7': {'happened(stop(1), 6)'},\n",
       " '#program observations_3': {'-observed(greeted_by(\"Bob\", \"Alice\"), 3)',\n",
       "  'happened(move_through(\"Alice\", \"d12\"), 2)',\n",
       "  'observed(in_room(\"Alice\", \"r2\"), 3)'},\n",
       " '#program observations_4': {'-observed(greeted_by(\"Bob\", \"Alice\"), 4)',\n",
       "  'happened(move_through(\"Alice\", \"d23\"), 3)',\n",
       "  'observed(in_room(\"Alice\", \"r3\"), 4)'},\n",
       " '#program observations_5': {'-observed(greeted_by(\"Bob\", \"Alice\"), 5)',\n",
       "  'happened(move_through(\"Alice\", \"d34\"), 4)',\n",
       "  'observed(in_room(\"Alice\", \"r4\"), 5)'},\n",
       " '#program observations_6': {'happened(greet(\"Alice\", \"Bob\"), 5)',\n",
       "  'observed(greeted_by(\"Bob\", \"Alice\"), 6)'}}"
      ]
     },
     "execution_count": 7,
     "metadata": {},
     "output_type": "execute_result"
    }
   ],
   "source": [
    "program_dict = dict()\n",
    "\n",
    "for fact in fact_dict:  # type: str\n",
    "    for time in fact_dict[fact]:\n",
    "        if fact.startswith(\"happened\") or fact.startswith(\"-happened\"):\n",
    "            key = \"#program observations_{}\".format(time + 1)\n",
    "            if key not in program_dict:\n",
    "                program_dict[key] = set()\n",
    "            program_dict[key].add(fill_time(fact, time))\n",
    "        elif fact.startswith(\"observed\") or fact.startswith(\"-observed\"):\n",
    "            key = \"#program observations_{}\".format(time)\n",
    "            if key not in program_dict:\n",
    "                program_dict[key] = set()\n",
    "            program_dict[key].add(fill_time(fact, time))\n",
    "\n",
    "program_dict"
   ]
  },
  {
   "cell_type": "code",
   "execution_count": 8,
   "id": "2fbe4955-a2d7-4d04-8e8a-70d0ce167f2e",
   "metadata": {},
   "outputs": [],
   "source": [
    "with open(\"run_observations.lp\", \"w\") as lp_file:\n",
    "    for program, facts in program_dict.items():\n",
    "        lp_file.write(program)\n",
    "        lp_file.write('.\\n')\n",
    "        lp_file.writelines(\"{}.\\n\".format(fact) for fact in program_dict[program])"
   ]
  },
  {
   "cell_type": "code",
   "execution_count": 9,
   "id": "86417e9c-2b31-410c-a640-969b244f80db",
   "metadata": {},
   "outputs": [],
   "source": [
    "script_dir = os.path.join('..', 'Implementation')"
   ]
  },
  {
   "cell_type": "code",
   "execution_count": 10,
   "id": "733b6419",
   "metadata": {
    "pycharm": {
     "name": "#%%\n"
    }
   },
   "outputs": [],
   "source": [
    "# Change these if you want to run for another example:\n",
    "instance = os.path.join('..', 'Examples', 'Authorization', 'Example_A', 'instance.lp')\n",
    "domain_encoding = os.path.join('..', 'Examples', 'Authorization', 'Example_A', 'domain_encoding.lp')\n",
    "\n",
    "max_timestep = 7"
   ]
  },
  {
   "cell_type": "code",
   "execution_count": 11,
   "id": "2413cf3e",
   "metadata": {
    "pycharm": {
     "name": "#%%\n"
    }
   },
   "outputs": [],
   "source": [
    "# Change how the scripts are evaluated\n",
    "debug = False  # Turn on additional debug info\n",
    "configuration = APIAConfiguration(authorization=APIAAuthorizationSetting.PARANOID,\n",
    "                                  obligation=APIAObligationSetting.SUBORDINATE)\n"
   ]
  },
  {
   "cell_type": "code",
   "execution_count": 12,
   "id": "a058ba02-41b5-4504-a222-7f7b051bd1f8",
   "metadata": {
    "scrolled": true
   },
   "outputs": [
    {
     "name": "stdout",
     "output_type": "stream",
     "text": [
      "(WindowsPath('../Implementation/aaa_axioms.lp'), WindowsPath('../Implementation/aia_theory_of_intentions.lp'), WindowsPath('../Implementation/aia_history_rules.lp'), WindowsPath('../Implementation/aia_intended_action_rules.lp'), WindowsPath('../Implementation/aopl_authorization_compliance.lp'), WindowsPath('../Implementation/aopl_obligation_compliance.lp'), WindowsPath('../Implementation/general_axioms.lp'), WindowsPath('../Implementation/apia_cr_prolog.lp'), WindowsPath('../Implementation/apia_policy.lp'), WindowsPath('../Implementation/apia_compliance_check.lp'), WindowsPath('../Implementation/apia_optimization_priorities.lp'), WindowsPath('../Implementation/apia_show.lp'), WindowsPath('../Implementation/apia_patch.lp'), WindowsPath('../Examples/Authorization/Example_A/instance.lp'), WindowsPath('../Examples/Authorization/Example_A/domain_encoding.lp'), WindowsPath('run_observations.lp'))\n"
     ]
    }
   ],
   "source": [
    "clingo_files = get_clingo_files(script_dir=Path(script_dir), files=(instance, domain_encoding, \"run_observations.lp\"), debug=debug)\n",
    "clingo_files_no_debug = get_clingo_files(script_dir=Path(script_dir), files=(instance, domain_encoding, \"run_observations.lp\"), debug=False, include_script_defs=True)\n",
    "print(clingo_files)\n",
    "clingo_args = (\n",
    "    '--opt-mode=optN',\n",
    "    '--parallel-mode', f'{1}',\n",
    "    '--warn=no-atom-undefined',\n",
    "    '2' if debug else '1',\n",
    ")\n",
    "\n",
    "history: deque[clingo.Symbol] = deque()\n",
    "observation_subprograms: deque[ASPSubprogramInstantiation] = deque()"
   ]
  },
  {
   "cell_type": "code",
   "execution_count": 13,
   "id": "0806b5ee",
   "metadata": {
    "pycharm": {
     "name": "#%%\n"
    }
   },
   "outputs": [],
   "source": [
    "current_timestep = 0"
   ]
  },
  {
   "cell_type": "markdown",
   "id": "626d44e4",
   "metadata": {},
   "source": [
    "## Loop"
   ]
  },
  {
   "cell_type": "code",
   "execution_count": 21,
   "id": "d44bfa55",
   "metadata": {
    "pycharm": {
     "name": "#%%\n"
    }
   },
   "outputs": [
    {
     "name": "stdout",
     "output_type": "stream",
     "text": [
      "Timestep 1/7\n"
     ]
    }
   ],
   "source": [
    "print('Timestep {}/{}'.format(current_timestep,max_timestep))"
   ]
  },
  {
   "cell_type": "code",
   "execution_count": 22,
   "id": "2a9c3ce8-bfc3-4e52-be30-d702884b8243",
   "metadata": {},
   "outputs": [
    {
     "name": "stdout",
     "output_type": "stream",
     "text": [
      "  Step 1: Interpret observations\n",
      "    Grounding...\n",
      "    Solving...\n",
      "    Unobserved actions: 0\n"
     ]
    }
   ],
   "source": [
    "print('  Step 1: Interpret observations')\n",
    "step_2_unobserved_actions_count, step_1_answer_set = interpret_observations(clingo_files=clingo_files,\n",
    "                                                                       clingo_args=clingo_args,\n",
    "                                                                       history=history,\n",
    "                                                                       observation_subprograms=observation_subprograms,\n",
    "                                                                       current_timestep=current_timestep,\n",
    "                                                                       max_timestep=max_timestep,\n",
    "                                                                       configuration=configuration,\n",
    "                                                                       debug=debug)"
   ]
  },
  {
   "cell_type": "code",
   "execution_count": 23,
   "id": "3746737d",
   "metadata": {
    "pycharm": {
     "name": "#%%\n"
    }
   },
   "outputs": [],
   "source": [
    "# does not work yet:\n",
    "# explain(clingo_files, answer_set=step_1_answer_set, clingo_args=clingo_args, grounding_context=GroundingContext)"
   ]
  },
  {
   "cell_type": "code",
   "execution_count": 24,
   "id": "ce96c3b1",
   "metadata": {
    "pycharm": {
     "name": "#%%\n"
    }
   },
   "outputs": [
    {
     "name": "stdout",
     "output_type": "stream",
     "text": [
      "\n",
      "  Step 2: Find intended action\n",
      "    Grounding...\n",
      "    Solving...\n",
      "    Intended action: start(1)\n",
      "    New activity:\n",
      "      activity_goal(2,policy_compliant(greeted_by(\"Bob\",\"Alice\")))\n"
     ]
    }
   ],
   "source": [
    "# Step 2: Find intended action\n",
    "print()\n",
    "print('  Step 2: Find intended action')\n",
    "step_3_intended_actions, step_2_answer_set = find_intended_action(clingo_files=clingo_files,\n",
    "                                                             clingo_args=clingo_args,\n",
    "                                                             history=history,\n",
    "                                                             step_2_unobserved_actions_count=step_2_unobserved_actions_count,\n",
    "                                                             observation_subprograms=observation_subprograms,\n",
    "                                                             current_timestep=current_timestep,\n",
    "                                                             max_timestep=max_timestep,\n",
    "                                                             configuration=configuration,\n",
    "                                                             debug=debug)"
   ]
  },
  {
   "cell_type": "code",
   "execution_count": 25,
   "id": "8e42376d",
   "metadata": {
    "pycharm": {
     "name": "#%%\n"
    }
   },
   "outputs": [
    {
     "name": "stdout",
     "output_type": "stream",
     "text": [
      "\n",
      "  Step 3: Do intended action\n",
      "    Skipping start(1)\n"
     ]
    }
   ],
   "source": [
    "\n",
    "# Step 3: Perform intended action\n",
    "print()\n",
    "print('  Step 3: Do intended action')\n",
    "do_intended_action(step_3_intended_actions=step_3_intended_actions,\n",
    "                   history=history,\n",
    "                   current_timestep=current_timestep)"
   ]
  },
  {
   "cell_type": "code",
   "execution_count": 26,
   "id": "aa593d7e",
   "metadata": {
    "pycharm": {
     "name": "#%%\n"
    }
   },
   "outputs": [
    {
     "name": "stdout",
     "output_type": "stream",
     "text": [
      "\n",
      "  Step 4: Observe world\n",
      "    Getting observations from #program observations_2.\n"
     ]
    }
   ],
   "source": [
    "\n",
    "# Step 4: Observe world\n",
    "print()\n",
    "print('  Step 4: Observe world')\n",
    "observe_world(current_timestep=current_timestep,\n",
    "              observation_subprograms=observation_subprograms)"
   ]
  },
  {
   "cell_type": "code",
   "execution_count": 27,
   "id": "e523817d",
   "metadata": {
    "pycharm": {
     "name": "#%%\n"
    }
   },
   "outputs": [],
   "source": [
    "current_timestep += 1"
   ]
  },
  {
   "cell_type": "code",
   "execution_count": null,
   "id": "dd166d20",
   "metadata": {
    "pycharm": {
     "name": "#%%\n"
    }
   },
   "outputs": [],
   "source": []
  }
 ],
 "metadata": {
  "kernelspec": {
   "display_name": "Python 3 (ipykernel)",
   "language": "python",
   "name": "python3"
  },
  "language_info": {
   "codemirror_mode": {
    "name": "ipython",
    "version": 3
   },
   "file_extension": ".py",
   "mimetype": "text/x-python",
   "name": "python",
   "nbconvert_exporter": "python",
   "pygments_lexer": "ipython3",
   "version": "3.9.0"
  }
 },
 "nbformat": 4,
 "nbformat_minor": 5
}
