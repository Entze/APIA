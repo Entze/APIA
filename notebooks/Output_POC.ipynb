{
 "cells": [
  {
   "cell_type": "code",
   "execution_count": 1,
   "id": "6ba2a669-e93b-4987-9067-1f0a5e3eceb4",
   "metadata": {},
   "outputs": [],
   "source": [
    "import os.path\n",
    "import re\n",
    "import sys\n",
    "\n",
    "import ipysheet\n",
    "from clingo.script import register_script\n",
    "\n",
    "from util.run import explain\n",
    "\n",
    "sys.path.append('..')\n",
    "from Implementation.apia_control_loop import *"
   ]
  },
  {
   "cell_type": "code",
   "execution_count": 2,
   "id": "8b9f95b6-e702-45f8-bcf0-0959d357aa08",
   "metadata": {},
   "outputs": [],
   "source": [
    "def generate_sheet(rows=5, columns=5):\n",
    "    sheet = ipysheet.sheet(rows=rows, columns=columns, column_width=[20] + [5 for _ in range(1, columns)])\n",
    "    for row in range(rows):\n",
    "        for column in range(columns):\n",
    "            ipysheet.cell(row, column, \"\")\n",
    "    return sheet\n"
   ]
  },
  {
   "cell_type": "code",
   "execution_count": 3,
   "id": "dc0ba313-28cd-47db-be82-153042acd387",
   "metadata": {},
   "outputs": [
    {
     "data": {
      "text/plain": "Sheet(cells=(Cell(column_end=0, column_start=0, row_end=0, row_start=0, type='text', value=''), Cell(column_en…",
      "application/vnd.jupyter.widget-view+json": {
       "version_major": 2,
       "version_minor": 0,
       "model_id": "95851ac9002241b38475d2d35959027d"
      }
     },
     "metadata": {},
     "output_type": "display_data"
    }
   ],
   "source": [
    "sheet = generate_sheet(rows=13, columns=9)\n",
    "\n",
    "ipysheet.cell(0, 0, \"happened(wait, T)\")\n",
    "ipysheet.cell(1, 0, 'happened(select(policy_compliant(greeted_by(\"Bob\", \"Alice\"))), T)')\n",
    "ipysheet.cell(2, 0, 'happened(start(1), T)')\n",
    "ipysheet.cell(3, 0, 'happened(stop(1), T)')\n",
    "ipysheet.cell(4, 0, 'happened(move_through(\"Alice\", \"d12\"), T)')\n",
    "ipysheet.cell(5, 0, 'happened(move_through(\"Alice\", \"d23\"), T)')\n",
    "ipysheet.cell(6, 0, 'happened(move_through(\"Alice\", \"d34\"), T)')\n",
    "ipysheet.cell(7, 0, 'happened(greet(\"Alice\", \"Bob\"), T)')\n",
    "ipysheet.cell(8, 0, 'observed(in_room(\"Alice\", \"r2\"), T)')\n",
    "ipysheet.cell(9, 0, 'observed(in_room(\"Alice\", \"r3\"), T)')\n",
    "ipysheet.cell(10, 0, 'observed(in_room(\"Alice\", \"r4\"), T)')\n",
    "ipysheet.cell(11, 0, 'observed(greeted_by(\"Bob\", \"Alice\"), T)')\n",
    "ipysheet.cell(12, 0, '-observed(greeted_by(\"Bob\", \"Alice\"), T)')\n",
    "\n",
    "ipysheet.cell(0, 1, \"X\")\n",
    "ipysheet.cell(0, 8, \"X\")\n",
    "ipysheet.cell(1, 1, \"X\")\n",
    "ipysheet.cell(2, 2, \"X\")\n",
    "ipysheet.cell(3, 7, \"X\")\n",
    "ipysheet.cell(4, 3, \"X\")\n",
    "ipysheet.cell(5, 4, \"X\")\n",
    "ipysheet.cell(6, 5, \"X\")\n",
    "ipysheet.cell(7, 6, \"X\")\n",
    "\n",
    "ipysheet.cell(8, 4, \"X\")\n",
    "ipysheet.cell(9, 5, \"X\")\n",
    "ipysheet.cell(10, 6, \"X\")\n",
    "\n",
    "ipysheet.cell(11, 7, \"X\")\n",
    "ipysheet.cell(12, 2, \"X\")\n",
    "ipysheet.cell(12, 3, \"X\")\n",
    "ipysheet.cell(12, 4, \"X\")\n",
    "ipysheet.cell(12, 5, \"X\")\n",
    "ipysheet.cell(12, 6, \"X\")\n",
    "\n",
    "sheet"
   ]
  },
  {
   "cell_type": "code",
   "execution_count": 4,
   "id": "eb7f1d16-702f-4431-bf55-64417f38e5b3",
   "metadata": {},
   "outputs": [
    {
     "data": {
      "text/plain": "                                                    A  B  C  D  E  F  G  H  I\n0                                   happened(wait, T)  X                    X\n1   happened(select(policy_compliant(greeted_by(\"B...  X                     \n2                               happened(start(1), T)     X                  \n3                                happened(stop(1), T)                    X   \n4           happened(move_through(\"Alice\", \"d12\"), T)        X               \n5           happened(move_through(\"Alice\", \"d23\"), T)           X            \n6           happened(move_through(\"Alice\", \"d34\"), T)              X         \n7                  happened(greet(\"Alice\", \"Bob\"), T)                 X      \n8                 observed(in_room(\"Alice\", \"r2\"), T)           X            \n9                 observed(in_room(\"Alice\", \"r3\"), T)              X         \n10                observed(in_room(\"Alice\", \"r4\"), T)                 X      \n11            observed(greeted_by(\"Bob\", \"Alice\"), T)                    X   \n12           -observed(greeted_by(\"Bob\", \"Alice\"), T)     X  X  X  X  X      ",
      "text/html": "<div>\n<style scoped>\n    .dataframe tbody tr th:only-of-type {\n        vertical-align: middle;\n    }\n\n    .dataframe tbody tr th {\n        vertical-align: top;\n    }\n\n    .dataframe thead th {\n        text-align: right;\n    }\n</style>\n<table border=\"1\" class=\"dataframe\">\n  <thead>\n    <tr style=\"text-align: right;\">\n      <th></th>\n      <th>A</th>\n      <th>B</th>\n      <th>C</th>\n      <th>D</th>\n      <th>E</th>\n      <th>F</th>\n      <th>G</th>\n      <th>H</th>\n      <th>I</th>\n    </tr>\n  </thead>\n  <tbody>\n    <tr>\n      <th>0</th>\n      <td>happened(wait, T)</td>\n      <td>X</td>\n      <td></td>\n      <td></td>\n      <td></td>\n      <td></td>\n      <td></td>\n      <td></td>\n      <td>X</td>\n    </tr>\n    <tr>\n      <th>1</th>\n      <td>happened(select(policy_compliant(greeted_by(\"B...</td>\n      <td>X</td>\n      <td></td>\n      <td></td>\n      <td></td>\n      <td></td>\n      <td></td>\n      <td></td>\n      <td></td>\n    </tr>\n    <tr>\n      <th>2</th>\n      <td>happened(start(1), T)</td>\n      <td></td>\n      <td>X</td>\n      <td></td>\n      <td></td>\n      <td></td>\n      <td></td>\n      <td></td>\n      <td></td>\n    </tr>\n    <tr>\n      <th>3</th>\n      <td>happened(stop(1), T)</td>\n      <td></td>\n      <td></td>\n      <td></td>\n      <td></td>\n      <td></td>\n      <td></td>\n      <td>X</td>\n      <td></td>\n    </tr>\n    <tr>\n      <th>4</th>\n      <td>happened(move_through(\"Alice\", \"d12\"), T)</td>\n      <td></td>\n      <td></td>\n      <td>X</td>\n      <td></td>\n      <td></td>\n      <td></td>\n      <td></td>\n      <td></td>\n    </tr>\n    <tr>\n      <th>5</th>\n      <td>happened(move_through(\"Alice\", \"d23\"), T)</td>\n      <td></td>\n      <td></td>\n      <td></td>\n      <td>X</td>\n      <td></td>\n      <td></td>\n      <td></td>\n      <td></td>\n    </tr>\n    <tr>\n      <th>6</th>\n      <td>happened(move_through(\"Alice\", \"d34\"), T)</td>\n      <td></td>\n      <td></td>\n      <td></td>\n      <td></td>\n      <td>X</td>\n      <td></td>\n      <td></td>\n      <td></td>\n    </tr>\n    <tr>\n      <th>7</th>\n      <td>happened(greet(\"Alice\", \"Bob\"), T)</td>\n      <td></td>\n      <td></td>\n      <td></td>\n      <td></td>\n      <td></td>\n      <td>X</td>\n      <td></td>\n      <td></td>\n    </tr>\n    <tr>\n      <th>8</th>\n      <td>observed(in_room(\"Alice\", \"r2\"), T)</td>\n      <td></td>\n      <td></td>\n      <td></td>\n      <td>X</td>\n      <td></td>\n      <td></td>\n      <td></td>\n      <td></td>\n    </tr>\n    <tr>\n      <th>9</th>\n      <td>observed(in_room(\"Alice\", \"r3\"), T)</td>\n      <td></td>\n      <td></td>\n      <td></td>\n      <td></td>\n      <td>X</td>\n      <td></td>\n      <td></td>\n      <td></td>\n    </tr>\n    <tr>\n      <th>10</th>\n      <td>observed(in_room(\"Alice\", \"r4\"), T)</td>\n      <td></td>\n      <td></td>\n      <td></td>\n      <td></td>\n      <td></td>\n      <td>X</td>\n      <td></td>\n      <td></td>\n    </tr>\n    <tr>\n      <th>11</th>\n      <td>observed(greeted_by(\"Bob\", \"Alice\"), T)</td>\n      <td></td>\n      <td></td>\n      <td></td>\n      <td></td>\n      <td></td>\n      <td></td>\n      <td>X</td>\n      <td></td>\n    </tr>\n    <tr>\n      <th>12</th>\n      <td>-observed(greeted_by(\"Bob\", \"Alice\"), T)</td>\n      <td></td>\n      <td>X</td>\n      <td>X</td>\n      <td>X</td>\n      <td>X</td>\n      <td>X</td>\n      <td></td>\n      <td></td>\n    </tr>\n  </tbody>\n</table>\n</div>"
     },
     "execution_count": 4,
     "metadata": {},
     "output_type": "execute_result"
    }
   ],
   "source": [
    "df = ipysheet.pandas_loader.to_dataframe(sheet)\n",
    "df"
   ]
  },
  {
   "cell_type": "code",
   "execution_count": 5,
   "id": "3036040b-8e2e-400b-b1a3-d664250456e8",
   "metadata": {},
   "outputs": [
    {
     "data": {
      "text/plain": "{'happened(wait, T)': {0, 7},\n 'happened(select(policy_compliant(greeted_by(\"Bob\", \"Alice\"))), T)': {0},\n 'happened(start(1), T)': {1},\n 'happened(stop(1), T)': {6},\n 'happened(move_through(\"Alice\", \"d12\"), T)': {2},\n 'happened(move_through(\"Alice\", \"d23\"), T)': {3},\n 'happened(move_through(\"Alice\", \"d34\"), T)': {4},\n 'happened(greet(\"Alice\", \"Bob\"), T)': {5},\n 'observed(in_room(\"Alice\", \"r2\"), T)': {3},\n 'observed(in_room(\"Alice\", \"r3\"), T)': {4},\n 'observed(in_room(\"Alice\", \"r4\"), T)': {5},\n 'observed(greeted_by(\"Bob\", \"Alice\"), T)': {6},\n '-observed(greeted_by(\"Bob\", \"Alice\"), T)': {1, 2, 3, 4, 5}}"
     },
     "execution_count": 5,
     "metadata": {},
     "output_type": "execute_result"
    }
   ],
   "source": [
    "fact_dict = {}\n",
    "\n",
    "for rindex, row in df.iterrows():\n",
    "    fact = None\n",
    "    for cindex, cell in enumerate(row):\n",
    "        if cindex == 0:\n",
    "            fact = cell\n",
    "            fact_dict[cell] = set()\n",
    "        elif cell == \"X\":\n",
    "            fact_dict[fact].add(cindex - 1)\n",
    "\n",
    "fact_dict"
   ]
  },
  {
   "cell_type": "code",
   "execution_count": 6,
   "id": "2196d98c-7b33-4975-942a-c3e330bcff11",
   "metadata": {},
   "outputs": [],
   "source": [
    "action_string = \"^(-?)(happened|observed)\\(\\s*(.*)\\s*,\\s*(T)\\s*\\)$\"\n",
    "action_pattern = re.compile(action_string)\n",
    "\n",
    "\n",
    "def fill_time(fact, time):\n",
    "    if action_pattern.match(fact):\n",
    "        return action_pattern.sub(r\"\\1\\2(\\3, {})\".format(time), fact)\n",
    "    return fact\n",
    "\n"
   ]
  },
  {
   "cell_type": "code",
   "execution_count": 7,
   "id": "60679174-8875-416a-b63f-d389ecf88fd6",
   "metadata": {},
   "outputs": [
    {
     "data": {
      "text/plain": "{'#program observations_1': {'-observed(greeted_by(\"Bob\", \"Alice\"), 1)',\n  'happened(select(policy_compliant(greeted_by(\"Bob\", \"Alice\"))), 0)',\n  'happened(wait, 0)'},\n '#program observations_8': {'happened(wait, 7)'},\n '#program observations_2': {'-observed(greeted_by(\"Bob\", \"Alice\"), 2)',\n  'happened(start(1), 1)'},\n '#program observations_7': {'happened(stop(1), 6)'},\n '#program observations_3': {'-observed(greeted_by(\"Bob\", \"Alice\"), 3)',\n  'happened(move_through(\"Alice\", \"d12\"), 2)',\n  'observed(in_room(\"Alice\", \"r2\"), 3)'},\n '#program observations_4': {'-observed(greeted_by(\"Bob\", \"Alice\"), 4)',\n  'happened(move_through(\"Alice\", \"d23\"), 3)',\n  'observed(in_room(\"Alice\", \"r3\"), 4)'},\n '#program observations_5': {'-observed(greeted_by(\"Bob\", \"Alice\"), 5)',\n  'happened(move_through(\"Alice\", \"d34\"), 4)',\n  'observed(in_room(\"Alice\", \"r4\"), 5)'},\n '#program observations_6': {'happened(greet(\"Alice\", \"Bob\"), 5)',\n  'observed(greeted_by(\"Bob\", \"Alice\"), 6)'}}"
     },
     "execution_count": 7,
     "metadata": {},
     "output_type": "execute_result"
    }
   ],
   "source": [
    "program_dict = dict()\n",
    "\n",
    "for fact in fact_dict:  # type: str\n",
    "    for time in fact_dict[fact]:\n",
    "        if fact.startswith(\"happened\") or fact.startswith(\"-happened\"):\n",
    "            key = \"#program observations_{}\".format(time + 1)\n",
    "            if key not in program_dict:\n",
    "                program_dict[key] = set()\n",
    "            program_dict[key].add(fill_time(fact, time))\n",
    "        elif fact.startswith(\"observed\") or fact.startswith(\"-observed\"):\n",
    "            key = \"#program observations_{}\".format(time)\n",
    "            if key not in program_dict:\n",
    "                program_dict[key] = set()\n",
    "            program_dict[key].add(fill_time(fact, time))\n",
    "\n",
    "program_dict"
   ]
  },
  {
   "cell_type": "code",
   "execution_count": 8,
   "id": "2fbe4955-a2d7-4d04-8e8a-70d0ce167f2e",
   "metadata": {},
   "outputs": [],
   "source": [
    "with open(\"run_observations.lp\", \"w\") as lp_file:\n",
    "    for program, facts in program_dict.items():\n",
    "        lp_file.write(program)\n",
    "        lp_file.write('.\\n')\n",
    "        lp_file.writelines(\"{}.\\n\".format(fact) for fact in program_dict[program])"
   ]
  },
  {
   "cell_type": "code",
   "execution_count": 9,
   "id": "86417e9c-2b31-410c-a640-969b244f80db",
   "metadata": {},
   "outputs": [],
   "source": [
    "script_dir = os.path.join('..', 'Implementation')"
   ]
  },
  {
   "cell_type": "code",
   "execution_count": 10,
   "outputs": [],
   "source": [
    "# Change these if you want to run for another example:\n",
    "instance = os.path.join('..', 'Examples', 'Authorization', 'Example_A', 'instance.lp')\n",
    "domain_encoding = os.path.join('..', 'Examples', 'Authorization', 'Example_A', 'domain_encoding.lp')\n",
    "\n",
    "max_timestep = 7"
   ],
   "metadata": {
    "collapsed": false,
    "pycharm": {
     "name": "#%%\n"
    }
   }
  },
  {
   "cell_type": "code",
   "execution_count": 11,
   "outputs": [],
   "source": [
    "# Change how the scripts are evaluated\n",
    "debug = False  # Turn on additional debug info\n",
    "configuration = APIAConfiguration(authorization=APIAAuthorizationSetting.PARANOID,\n",
    "                                  obligation=APIAObligationSetting.SUBORDINATE)\n"
   ],
   "metadata": {
    "collapsed": false,
    "pycharm": {
     "name": "#%%\n"
    }
   }
  },
  {
   "cell_type": "code",
   "execution_count": 12,
   "id": "a058ba02-41b5-4504-a222-7f7b051bd1f8",
   "metadata": {},
   "outputs": [
    {
     "name": "stdout",
     "output_type": "stream",
     "text": [
      "(PosixPath('../Implementation/aaa_axioms.lp'), PosixPath('../Implementation/aia_theory_of_intentions.lp'), PosixPath('../Implementation/aia_history_rules.lp'), PosixPath('../Implementation/aia_intended_action_rules.lp'), PosixPath('../Implementation/aopl_authorization_compliance.lp'), PosixPath('../Implementation/aopl_obligation_compliance.lp'), PosixPath('../Implementation/general_axioms.lp'), PosixPath('../Implementation/apia_cr_prolog.lp'), PosixPath('../Implementation/apia_policy.lp'), PosixPath('../Implementation/apia_compliance_check.lp'), PosixPath('../Implementation/apia_optimization_priorities.lp'), PosixPath('../Implementation/apia_show.lp'), PosixPath('../Implementation/apia_patch.lp'), PosixPath('../Examples/Authorization/Example_A/instance.lp'), PosixPath('../Examples/Authorization/Example_A/domain_encoding.lp'), PosixPath('run_observations.lp'))\n"
     ]
    }
   ],
   "source": [
    "clingo_files = get_clingo_files(script_dir=Path(script_dir), files=(instance, domain_encoding, \"run_observations.lp\"), debug=debug)\n",
    "clingo_files_no_debug = get_clingo_files(script_dir=Path(script_dir), files=(instance, domain_encoding, \"run_observations.lp\"), debug=False, include_script_defs=True)\n",
    "print(clingo_files)\n",
    "clingo_args = (\n",
    "    '--opt-mode=optN',\n",
    "    '--parallel-mode', f'{1}',\n",
    "    '--warn=no-atom-undefined',\n",
    "    '2' if debug else '1',\n",
    ")\n",
    "\n",
    "history: deque[clingo.Symbol] = deque()\n",
    "observation_subprograms: deque[ASPSubprogramInstantiation] = deque()"
   ]
  },
  {
   "cell_type": "code",
   "execution_count": 13,
   "outputs": [],
   "source": [
    "current_timestep = 0"
   ],
   "metadata": {
    "collapsed": false,
    "pycharm": {
     "name": "#%%\n"
    }
   }
  },
  {
   "cell_type": "code",
   "execution_count": 14,
   "id": "2a9c3ce8-bfc3-4e52-be30-d702884b8243",
   "metadata": {},
   "outputs": [
    {
     "name": "stdout",
     "output_type": "stream",
     "text": [
      "  Step 1: Interpret observations\n",
      "    Grounding...\n",
      "    Solving...\n",
      "    Unobserved actions: 0\n"
     ]
    }
   ],
   "source": [
    "print('  Step 1: Interpret observations')\n",
    "step_2_unobserved_actions_count, step_1_answer_set = interpret_observations(clingo_files=clingo_files,\n",
    "                                                                       clingo_args=clingo_args,\n",
    "                                                                       history=history,\n",
    "                                                                       observation_subprograms=observation_subprograms,\n",
    "                                                                       current_timestep=current_timestep,\n",
    "                                                                       max_timestep=max_timestep,\n",
    "                                                                       configuration=configuration,\n",
    "                                                                       debug=debug)"
   ]
  },
  {
   "cell_type": "code",
   "execution_count": 19,
   "outputs": [
    {
     "ename": "KeyboardInterrupt",
     "evalue": "",
     "output_type": "error",
     "traceback": [
      "\u001B[0;31m---------------------------------------------------------------------------\u001B[0m",
      "\u001B[0;31mKeyboardInterrupt\u001B[0m                         Traceback (most recent call last)",
      "Input \u001B[0;32mIn [19]\u001B[0m, in \u001B[0;36m<cell line: 1>\u001B[0;34m()\u001B[0m\n\u001B[0;32m----> 1\u001B[0m \u001B[43mexplain\u001B[49m\u001B[43m(\u001B[49m\u001B[43mclingo_files\u001B[49m\u001B[43m,\u001B[49m\u001B[43m \u001B[49m\u001B[43manswer_set\u001B[49m\u001B[38;5;241;43m=\u001B[39;49m\u001B[43mstep_1_answer_set\u001B[49m\u001B[43m,\u001B[49m\u001B[43m \u001B[49m\u001B[43mclingo_args\u001B[49m\u001B[38;5;241;43m=\u001B[39;49m\u001B[43mclingo_args\u001B[49m\u001B[43m,\u001B[49m\u001B[43m \u001B[49m\u001B[43mgrounding_context\u001B[49m\u001B[38;5;241;43m=\u001B[39;49m\u001B[43mGroundingContext\u001B[49m\u001B[43m)\u001B[49m\n",
      "File \u001B[0;32m~/Dev/Python/miami-university-cse-700-apia/util/run.py:174\u001B[0m, in \u001B[0;36mexplain\u001B[0;34m(programs, clingo_args, grounding_context, answer_set, cautious_consequence, root)\u001B[0m\n\u001B[1;32m    171\u001B[0m     prepared_program \u001B[38;5;241m=\u001B[39m prepare_program(programs)\n\u001B[1;32m    172\u001B[0m aspif \u001B[38;5;241m=\u001B[39m program_str_to_aspif(prepared_program)\n\u001B[0;32m--> 174\u001B[0m program_dict, literal_dict \u001B[38;5;241m=\u001B[39m \u001B[43mprocess_aspif\u001B[49m(aspif)\n\u001B[1;32m    175\u001B[0m facts \u001B[38;5;241m=\u001B[39m {head \u001B[38;5;28;01mfor\u001B[39;00m head \u001B[38;5;129;01min\u001B[39;00m program_dict \u001B[38;5;28;01mif\u001B[39;00m\n\u001B[1;32m    176\u001B[0m          \u001B[38;5;28mlen\u001B[39m(program_dict[head]) \u001B[38;5;241m==\u001B[39m \u001B[38;5;241m0\u001B[39m \u001B[38;5;129;01mor\u001B[39;00m (\u001B[38;5;28mlen\u001B[39m(program_dict[head]) \u001B[38;5;241m==\u001B[39m \u001B[38;5;241m1\u001B[39m \u001B[38;5;129;01mand\u001B[39;00m \u001B[38;5;129;01mnot\u001B[39;00m \u001B[38;5;28many\u001B[39m(\n\u001B[1;32m    177\u001B[0m              program_dict[head][\u001B[38;5;241m0\u001B[39m]\u001B[38;5;241m.\u001B[39mvalues()))}\n\u001B[1;32m    179\u001B[0m derivable_dict \u001B[38;5;241m=\u001B[39m preprocess(program_dict\u001B[38;5;241m=\u001B[39mprogram_dict,\n\u001B[1;32m    180\u001B[0m                             facts\u001B[38;5;241m=\u001B[39mfacts,\n\u001B[1;32m    181\u001B[0m                             answer_set\u001B[38;5;241m=\u001B[39manswer_set_literals)\n",
      "File \u001B[0;32m~/Dev/Python/miami-university-cse-700-apia/util/run.py:174\u001B[0m, in \u001B[0;36mexplain\u001B[0;34m(programs, clingo_args, grounding_context, answer_set, cautious_consequence, root)\u001B[0m\n\u001B[1;32m    171\u001B[0m     prepared_program \u001B[38;5;241m=\u001B[39m prepare_program(programs)\n\u001B[1;32m    172\u001B[0m aspif \u001B[38;5;241m=\u001B[39m program_str_to_aspif(prepared_program)\n\u001B[0;32m--> 174\u001B[0m program_dict, literal_dict \u001B[38;5;241m=\u001B[39m \u001B[43mprocess_aspif\u001B[49m(aspif)\n\u001B[1;32m    175\u001B[0m facts \u001B[38;5;241m=\u001B[39m {head \u001B[38;5;28;01mfor\u001B[39;00m head \u001B[38;5;129;01min\u001B[39;00m program_dict \u001B[38;5;28;01mif\u001B[39;00m\n\u001B[1;32m    176\u001B[0m          \u001B[38;5;28mlen\u001B[39m(program_dict[head]) \u001B[38;5;241m==\u001B[39m \u001B[38;5;241m0\u001B[39m \u001B[38;5;129;01mor\u001B[39;00m (\u001B[38;5;28mlen\u001B[39m(program_dict[head]) \u001B[38;5;241m==\u001B[39m \u001B[38;5;241m1\u001B[39m \u001B[38;5;129;01mand\u001B[39;00m \u001B[38;5;129;01mnot\u001B[39;00m \u001B[38;5;28many\u001B[39m(\n\u001B[1;32m    177\u001B[0m              program_dict[head][\u001B[38;5;241m0\u001B[39m]\u001B[38;5;241m.\u001B[39mvalues()))}\n\u001B[1;32m    179\u001B[0m derivable_dict \u001B[38;5;241m=\u001B[39m preprocess(program_dict\u001B[38;5;241m=\u001B[39mprogram_dict,\n\u001B[1;32m    180\u001B[0m                             facts\u001B[38;5;241m=\u001B[39mfacts,\n\u001B[1;32m    181\u001B[0m                             answer_set\u001B[38;5;241m=\u001B[39manswer_set_literals)\n",
      "File \u001B[0;32m~/.local/share/JetBrains/Toolbox/apps/PyCharm-P/ch-0/213.6777.50/plugins/python/helpers/pydev/_pydevd_bundle/pydevd_frame.py:747\u001B[0m, in \u001B[0;36mPyDBFrame.trace_dispatch\u001B[0;34m(self, frame, event, arg)\u001B[0m\n\u001B[1;32m    745\u001B[0m \u001B[38;5;66;03m# if thread has a suspend flag, we suspend with a busy wait\u001B[39;00m\n\u001B[1;32m    746\u001B[0m \u001B[38;5;28;01mif\u001B[39;00m info\u001B[38;5;241m.\u001B[39mpydev_state \u001B[38;5;241m==\u001B[39m STATE_SUSPEND:\n\u001B[0;32m--> 747\u001B[0m     \u001B[38;5;28;43mself\u001B[39;49m\u001B[38;5;241;43m.\u001B[39;49m\u001B[43mdo_wait_suspend\u001B[49m\u001B[43m(\u001B[49m\u001B[43mthread\u001B[49m\u001B[43m,\u001B[49m\u001B[43m \u001B[49m\u001B[43mframe\u001B[49m\u001B[43m,\u001B[49m\u001B[43m \u001B[49m\u001B[43mevent\u001B[49m\u001B[43m,\u001B[49m\u001B[43m \u001B[49m\u001B[43marg\u001B[49m\u001B[43m)\u001B[49m\n\u001B[1;32m    748\u001B[0m     \u001B[38;5;66;03m# No need to reset frame.f_trace to keep the same trace function.\u001B[39;00m\n\u001B[1;32m    749\u001B[0m     \u001B[38;5;28;01mreturn\u001B[39;00m \u001B[38;5;28mself\u001B[39m\u001B[38;5;241m.\u001B[39mtrace_dispatch\n",
      "File \u001B[0;32m~/.local/share/JetBrains/Toolbox/apps/PyCharm-P/ch-0/213.6777.50/plugins/python/helpers/pydev/_pydevd_bundle/pydevd_frame.py:144\u001B[0m, in \u001B[0;36mPyDBFrame.do_wait_suspend\u001B[0;34m(self, *args, **kwargs)\u001B[0m\n\u001B[1;32m    143\u001B[0m \u001B[38;5;28;01mdef\u001B[39;00m \u001B[38;5;21mdo_wait_suspend\u001B[39m(\u001B[38;5;28mself\u001B[39m, \u001B[38;5;241m*\u001B[39margs, \u001B[38;5;241m*\u001B[39m\u001B[38;5;241m*\u001B[39mkwargs):\n\u001B[0;32m--> 144\u001B[0m     \u001B[38;5;28;43mself\u001B[39;49m\u001B[38;5;241;43m.\u001B[39;49m\u001B[43m_args\u001B[49m\u001B[43m[\u001B[49m\u001B[38;5;241;43m0\u001B[39;49m\u001B[43m]\u001B[49m\u001B[38;5;241;43m.\u001B[39;49m\u001B[43mdo_wait_suspend\u001B[49m\u001B[43m(\u001B[49m\u001B[38;5;241;43m*\u001B[39;49m\u001B[43margs\u001B[49m\u001B[43m,\u001B[49m\u001B[43m \u001B[49m\u001B[38;5;241;43m*\u001B[39;49m\u001B[38;5;241;43m*\u001B[39;49m\u001B[43mkwargs\u001B[49m\u001B[43m)\u001B[49m\n",
      "File \u001B[0;32m~/.local/share/JetBrains/Toolbox/apps/PyCharm-P/ch-0/213.6777.50/plugins/python/helpers/pydev/pydevd.py:1147\u001B[0m, in \u001B[0;36mPyDB.do_wait_suspend\u001B[0;34m(self, thread, frame, event, arg, send_suspend_message, is_unhandled_exception)\u001B[0m\n\u001B[1;32m   1144\u001B[0m         from_this_thread\u001B[38;5;241m.\u001B[39mappend(frame_id)\n\u001B[1;32m   1146\u001B[0m \u001B[38;5;28;01mwith\u001B[39;00m \u001B[38;5;28mself\u001B[39m\u001B[38;5;241m.\u001B[39m_threads_suspended_single_notification\u001B[38;5;241m.\u001B[39mnotify_thread_suspended(thread_id, stop_reason):\n\u001B[0;32m-> 1147\u001B[0m     \u001B[38;5;28;43mself\u001B[39;49m\u001B[38;5;241;43m.\u001B[39;49m\u001B[43m_do_wait_suspend\u001B[49m\u001B[43m(\u001B[49m\u001B[43mthread\u001B[49m\u001B[43m,\u001B[49m\u001B[43m \u001B[49m\u001B[43mframe\u001B[49m\u001B[43m,\u001B[49m\u001B[43m \u001B[49m\u001B[43mevent\u001B[49m\u001B[43m,\u001B[49m\u001B[43m \u001B[49m\u001B[43marg\u001B[49m\u001B[43m,\u001B[49m\u001B[43m \u001B[49m\u001B[43msuspend_type\u001B[49m\u001B[43m,\u001B[49m\u001B[43m \u001B[49m\u001B[43mfrom_this_thread\u001B[49m\u001B[43m)\u001B[49m\n",
      "File \u001B[0;32m~/.local/share/JetBrains/Toolbox/apps/PyCharm-P/ch-0/213.6777.50/plugins/python/helpers/pydev/pydevd.py:1162\u001B[0m, in \u001B[0;36mPyDB._do_wait_suspend\u001B[0;34m(self, thread, frame, event, arg, suspend_type, from_this_thread)\u001B[0m\n\u001B[1;32m   1159\u001B[0m             \u001B[38;5;28mself\u001B[39m\u001B[38;5;241m.\u001B[39m_call_mpl_hook()\n\u001B[1;32m   1161\u001B[0m         \u001B[38;5;28mself\u001B[39m\u001B[38;5;241m.\u001B[39mprocess_internal_commands()\n\u001B[0;32m-> 1162\u001B[0m         \u001B[43mtime\u001B[49m\u001B[38;5;241;43m.\u001B[39;49m\u001B[43msleep\u001B[49m\u001B[43m(\u001B[49m\u001B[38;5;241;43m0.01\u001B[39;49m\u001B[43m)\u001B[49m\n\u001B[1;32m   1164\u001B[0m \u001B[38;5;28mself\u001B[39m\u001B[38;5;241m.\u001B[39mcancel_async_evaluation(get_current_thread_id(thread), \u001B[38;5;28mstr\u001B[39m(\u001B[38;5;28mid\u001B[39m(frame)))\n\u001B[1;32m   1166\u001B[0m \u001B[38;5;66;03m# process any stepping instructions\u001B[39;00m\n",
      "\u001B[0;31mKeyboardInterrupt\u001B[0m: "
     ]
    }
   ],
   "source": [
    "explain(clingo_files, answer_set=step_1_answer_set, clingo_args=clingo_args, grounding_context=GroundingContext)"
   ],
   "metadata": {
    "collapsed": false,
    "pycharm": {
     "name": "#%%\n"
    }
   }
  },
  {
   "cell_type": "code",
   "execution_count": null,
   "outputs": [],
   "source": [
    "# Step 2: Find intended action\n",
    "print()\n",
    "print('  Step 2: Find intended action')\n",
    "step_3_intended_actions, step_2_answer_set = find_intended_action(clingo_files=clingo_files,\n",
    "                                                             clingo_args=clingo_args,\n",
    "                                                             history=history,\n",
    "                                                             step_2_unobserved_actions_count=step_2_unobserved_actions_count,\n",
    "                                                             observation_subprograms=observation_subprograms,\n",
    "                                                             current_timestep=current_timestep,\n",
    "                                                             max_timestep=max_timestep,\n",
    "                                                             configuration=configuration,\n",
    "                                                             debug=debug)"
   ],
   "metadata": {
    "collapsed": false,
    "pycharm": {
     "name": "#%%\n"
    }
   }
  },
  {
   "cell_type": "code",
   "execution_count": null,
   "outputs": [],
   "source": [
    "\n",
    "# Step 3: Perform intended action\n",
    "print()\n",
    "print('  Step 3: Do intended action')\n",
    "do_intended_action(step_3_intended_actions=step_3_intended_actions,\n",
    "                   history=history,\n",
    "                   current_timestep=current_timestep)"
   ],
   "metadata": {
    "collapsed": false,
    "pycharm": {
     "name": "#%%\n"
    }
   }
  },
  {
   "cell_type": "code",
   "execution_count": null,
   "outputs": [],
   "source": [
    "\n",
    "# Step 4: Observe world\n",
    "print()\n",
    "print('  Step 4: Observe world')\n",
    "observe_world(current_timestep=current_timestep,\n",
    "              observation_subprograms=observation_subprograms)"
   ],
   "metadata": {
    "collapsed": false,
    "pycharm": {
     "name": "#%%\n"
    }
   }
  },
  {
   "cell_type": "code",
   "execution_count": null,
   "outputs": [],
   "source": [],
   "metadata": {
    "collapsed": false,
    "pycharm": {
     "name": "#%%\n"
    }
   }
  }
 ],
 "metadata": {
  "kernelspec": {
   "display_name": "Python 3 (ipykernel)",
   "language": "python",
   "name": "python3"
  },
  "language_info": {
   "codemirror_mode": {
    "name": "ipython",
    "version": 3
   },
   "file_extension": ".py",
   "mimetype": "text/x-python",
   "name": "python",
   "nbconvert_exporter": "python",
   "pygments_lexer": "ipython3",
   "version": "3.9.0"
  }
 },
 "nbformat": 4,
 "nbformat_minor": 5
}