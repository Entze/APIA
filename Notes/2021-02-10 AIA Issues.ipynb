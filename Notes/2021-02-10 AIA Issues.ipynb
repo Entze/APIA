{
 "cells": [
  {
   "cell_type": "markdown",
   "id": "tropical-patio",
   "metadata": {},
   "source": [
    "# AIA Issues"
   ]
  },
  {
   "cell_type": "markdown",
   "id": "better-mailman",
   "metadata": {},
   "source": [
    "## Control Loop isn't working"
   ]
  },
  {
   "cell_type": "markdown",
   "id": "stone-interest",
   "metadata": {},
   "source": [
    "### Iteration 1"
   ]
  },
  {
   "cell_type": "markdown",
   "id": "usual-maker",
   "metadata": {},
   "source": [
    "#### Step 1: Interpret observations"
   ]
  },
  {
   "cell_type": "code",
   "execution_count": null,
   "id": "conscious-circulation",
   "metadata": {},
   "outputs": [],
   "source": [
    "%%script bash\n",
    "cd ../Figures/APIA_Architecture/Examples/Authorization/Example_A\n",
    "\n",
    "./test.sh 1 2> /dev/null > /dev/null"
   ]
  },
  {
   "cell_type": "markdown",
   "id": "considerable-purpose",
   "metadata": {},
   "source": [
    "#### Step 2: Find intended action"
   ]
  },
  {
   "cell_type": "code",
   "execution_count": null,
   "id": "advanced-freeware",
   "metadata": {},
   "outputs": [],
   "source": [
    "%%script bash\n",
    "cd ../Figures/APIA_Architecture/Examples/Authorization/Example_A\n",
    "\n",
    "./diff_test.sh 1 2 2> /dev/null"
   ]
  },
  {
   "cell_type": "markdown",
   "id": "baking-retro",
   "metadata": {},
   "source": [
    "**Question:** Why is the following missing?\n",
    "\n",
    "```prolog\n",
    "intended_action(wait, 0)\n",
    "```"
   ]
  },
  {
   "cell_type": "markdown",
   "id": "complete-applicant",
   "metadata": {},
   "source": [
    "#### Step 3: Attempt the intended action"
   ]
  },
  {
   "cell_type": "code",
   "execution_count": null,
   "id": "appropriate-alarm",
   "metadata": {},
   "outputs": [],
   "source": [
    "%%script bash\n",
    "cd ../Figures/APIA_Architecture/Examples/Authorization/Example_A\n",
    "\n",
    "./diff_test.sh 2 3 2> /dev/null"
   ]
  },
  {
   "cell_type": "markdown",
   "id": "confident-surfing",
   "metadata": {},
   "source": [
    "#### Step 4: Increment timestep & observe the world"
   ]
  },
  {
   "cell_type": "code",
   "execution_count": null,
   "id": "southwest-chair",
   "metadata": {},
   "outputs": [],
   "source": [
    "%%script bash\n",
    "cd ../Figures/APIA_Architecture/Examples/Authorization/Example_A\n",
    "\n",
    "./diff_test.sh 3 4 2> /dev/null"
   ]
  },
  {
   "cell_type": "markdown",
   "id": "coral-brother",
   "metadata": {},
   "source": [
    "### Iteration 2"
   ]
  },
  {
   "cell_type": "markdown",
   "id": "bacterial-pierce",
   "metadata": {},
   "source": [
    "#### Step 1: Interpret observations"
   ]
  },
  {
   "cell_type": "code",
   "execution_count": null,
   "id": "identical-middle",
   "metadata": {},
   "outputs": [],
   "source": [
    "%%script bash\n",
    "cd ../Figures/APIA_Architecture/Examples/Authorization/Example_A\n",
    "\n",
    "./diff_test.sh 4 5 2> /dev/null"
   ]
  },
  {
   "cell_type": "markdown",
   "id": "coordinate-joint",
   "metadata": {},
   "source": [
    "#### Step 2: Find intended action"
   ]
  },
  {
   "cell_type": "code",
   "execution_count": null,
   "id": "modified-patrick",
   "metadata": {},
   "outputs": [],
   "source": [
    "%%script bash\n",
    "cd ../Figures/APIA_Architecture/Examples/Authorization/Example_A\n",
    "\n",
    "./diff_test.sh 5 6 2> /dev/null"
   ]
  },
  {
   "cell_type": "markdown",
   "id": "polar-connectivity",
   "metadata": {},
   "source": [
    "**Question:** Why is the following missing?\n",
    "\n",
    "```prolog\n",
    "intended_action(move_through(\"Bob\", \"d12\"), 2)\n",
    "```"
   ]
  },
  {
   "cell_type": "markdown",
   "id": "looking-letter",
   "metadata": {},
   "source": [
    "#### Step 3: Attempt the intended action"
   ]
  },
  {
   "cell_type": "code",
   "execution_count": null,
   "id": "possible-louisiana",
   "metadata": {},
   "outputs": [],
   "source": [
    "%%script bash\n",
    "cd ../Figures/APIA_Architecture/Examples/Authorization/Example_A\n",
    "\n",
    "./diff_test.sh 6 7 2> /dev/null"
   ]
  },
  {
   "cell_type": "markdown",
   "id": "partial-covering",
   "metadata": {},
   "source": [
    "#### Step 4: Increment timestep & observe the world"
   ]
  },
  {
   "cell_type": "code",
   "execution_count": null,
   "id": "expected-creator",
   "metadata": {},
   "outputs": [],
   "source": [
    "%%script bash\n",
    "cd ../Figures/APIA_Architecture/Examples/Authorization/Example_A\n",
    "\n",
    "./diff_test.sh 7 8 2> /dev/null"
   ]
  },
  {
   "cell_type": "markdown",
   "id": "impressive-prescription",
   "metadata": {},
   "source": [
    "### Iteration 3"
   ]
  },
  {
   "cell_type": "markdown",
   "id": "authorized-legend",
   "metadata": {},
   "source": [
    "#### Step 1: Interpret observations"
   ]
  },
  {
   "cell_type": "markdown",
   "id": "exposed-prayer",
   "metadata": {},
   "source": [
    "**Question:** Why is timestep 9 unsatisfiable?"
   ]
  },
  {
   "cell_type": "code",
   "execution_count": null,
   "id": "decent-consultation",
   "metadata": {},
   "outputs": [],
   "source": [
    "%%script bash\n",
    "cd ../Figures/APIA_Architecture/Examples/Authorization/Example_A\n",
    "\n",
    "./diff_test.sh 8 9 2> /dev/null"
   ]
  },
  {
   "cell_type": "markdown",
   "id": "knowing-chicken",
   "metadata": {},
   "source": [
    "#### Step 2: Find intended action"
   ]
  },
  {
   "cell_type": "code",
   "execution_count": null,
   "id": "controlling-willow",
   "metadata": {},
   "outputs": [],
   "source": [
    "%%script bash\n",
    "cd ../Figures/APIA_Architecture/Examples/Authorization/Example_A\n",
    "\n",
    "./diff_test.sh 9 10 2> /dev/null"
   ]
  },
  {
   "cell_type": "markdown",
   "id": "black-greek",
   "metadata": {},
   "source": [
    "**Question:** Why is the following missing?\n",
    "\n",
    "```prolog\n",
    "intended_action(move_through(\"Bob\", \"d12\"), 2)\n",
    "```"
   ]
  },
  {
   "cell_type": "markdown",
   "id": "legitimate-giving",
   "metadata": {},
   "source": [
    "#### Step 3: Attempt the intended action"
   ]
  },
  {
   "cell_type": "code",
   "execution_count": null,
   "id": "renewable-popularity",
   "metadata": {},
   "outputs": [],
   "source": [
    "%%script bash\n",
    "cd ../Figures/APIA_Architecture/Examples/Authorization/Example_A\n",
    "\n",
    "./diff_test.sh 10 11 2> /dev/null"
   ]
  },
  {
   "cell_type": "markdown",
   "id": "anonymous-packing",
   "metadata": {},
   "source": [
    "#### Step 4: Increment timestep & observe the world"
   ]
  },
  {
   "cell_type": "code",
   "execution_count": null,
   "id": "eligible-contract",
   "metadata": {},
   "outputs": [],
   "source": [
    "%%script bash\n",
    "cd ../Figures/APIA_Architecture/Examples/Authorization/Example_A\n",
    "\n",
    "./diff_test.sh 11 12 2> /dev/null"
   ]
  },
  {
   "cell_type": "code",
   "execution_count": null,
   "id": "mathematical-greek",
   "metadata": {},
   "outputs": [],
   "source": []
  }
 ],
 "metadata": {
  "kernelspec": {
   "display_name": "Python 3",
   "language": "python",
   "name": "python3"
  },
  "language_info": {
   "codemirror_mode": {
    "name": "ipython",
    "version": 3
   },
   "file_extension": ".py",
   "mimetype": "text/x-python",
   "name": "python",
   "nbconvert_exporter": "python",
   "pygments_lexer": "ipython3",
   "version": "3.8.6"
  }
 },
 "nbformat": 4,
 "nbformat_minor": 5
}
